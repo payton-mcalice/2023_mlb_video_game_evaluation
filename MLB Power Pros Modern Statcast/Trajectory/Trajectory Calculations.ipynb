{
 "cells": [
  {
   "cell_type": "code",
   "execution_count": 283,
   "metadata": {},
   "outputs": [],
   "source": [
    "import pandas as pd"
   ]
  },
  {
   "cell_type": "code",
   "execution_count": 295,
   "metadata": {},
   "outputs": [
    {
     "data": {
      "text/html": [
       "<div>\n",
       "<style scoped>\n",
       "    .dataframe tbody tr th:only-of-type {\n",
       "        vertical-align: middle;\n",
       "    }\n",
       "\n",
       "    .dataframe tbody tr th {\n",
       "        vertical-align: top;\n",
       "    }\n",
       "\n",
       "    .dataframe thead th {\n",
       "        text-align: right;\n",
       "    }\n",
       "</style>\n",
       "<table border=\"1\" class=\"dataframe\">\n",
       "  <thead>\n",
       "    <tr style=\"text-align: right;\">\n",
       "      <th></th>\n",
       "      <th>PLAYERNAME</th>\n",
       "      <th>launch_angle_avg</th>\n",
       "    </tr>\n",
       "  </thead>\n",
       "  <tbody>\n",
       "    <tr>\n",
       "      <th>405395</th>\n",
       "      <td>Albert Pujols</td>\n",
       "      <td>15.094990</td>\n",
       "    </tr>\n",
       "    <tr>\n",
       "      <th>408234</th>\n",
       "      <td>Miguel Cabrera</td>\n",
       "      <td>6.889368</td>\n",
       "    </tr>\n",
       "    <tr>\n",
       "      <th>425877</th>\n",
       "      <td>Yadier Molina</td>\n",
       "      <td>16.152912</td>\n",
       "    </tr>\n",
       "    <tr>\n",
       "      <th>429664</th>\n",
       "      <td>Robinson Cano</td>\n",
       "      <td>5.800000</td>\n",
       "    </tr>\n",
       "    <tr>\n",
       "      <th>435559</th>\n",
       "      <td>Kurt Suzuki</td>\n",
       "      <td>19.946903</td>\n",
       "    </tr>\n",
       "  </tbody>\n",
       "</table>\n",
       "</div>"
      ],
      "text/plain": [
       "            PLAYERNAME  launch_angle_avg\n",
       "405395   Albert Pujols         15.094990\n",
       "408234  Miguel Cabrera          6.889368\n",
       "425877   Yadier Molina         16.152912\n",
       "429664   Robinson Cano          5.800000\n",
       "435559     Kurt Suzuki         19.946903"
      ]
     },
     "execution_count": 295,
     "metadata": {},
     "output_type": "execute_result"
    }
   ],
   "source": [
    "# from Baseball Savant, get weighted launch angle using TY and LY data\n",
    "# min pa = 50\n",
    "def read_launch_angle(year):\n",
    "    df = pd.read_csv(f'Launch Angle {year - 1}-{year}.csv', index_col=False).drop('Unnamed: 6', axis=1)\n",
    "    \n",
    "    # for LY data, give it half-weight\n",
    "    df.loc[df['year'] < year, 'b_total_pa'] /= 2\n",
    "    \n",
    "    # calculate the weighted launch angle\n",
    "    df['weight'] = df['b_total_pa'] * df['launch_angle_avg']\n",
    "    df_grouped = df.groupby(['player_id']).sum()\n",
    "    df_grouped['launch_angle_avg'] = df_grouped['weight'] / df_grouped['b_total_pa']\n",
    "    df_grouped = df_grouped[df_grouped['year'] >= year]\n",
    "    \n",
    "    # join with player ids\n",
    "    player_map = pd.read_csv('../PLAYERIDMAP 2022.csv')[['MLBID', 'PLAYERNAME']].set_index('MLBID')\n",
    "    merge = df_grouped[['launch_angle_avg']].merge(player_map, how='left', left_index=True, right_index=True)\n",
    "    \n",
    "    return merge[['PLAYERNAME', 'launch_angle_avg']]\n",
    "\n",
    "la_data = read_launch_angle(2022)\n",
    "la_data.head()"
   ]
  },
  {
   "cell_type": "code",
   "execution_count": 285,
   "metadata": {},
   "outputs": [
    {
     "name": "stdout",
     "output_type": "stream",
     "text": [
      "39\n",
      "329\n",
      "146\n",
      "34\n"
     ]
    }
   ],
   "source": [
    "# TRAJECTORY CONVERSIONS:\n",
    "# 1 if LA <= 10\n",
    "# 2 if 10 < LA <= 17\n",
    "# 3 if 17 < LA <= 21.5\n",
    "# 4 if 21.5 < LA\n",
    "trajectory_angle_conversion = {\n",
    "    2: 5,\n",
    "    3: 15,\n",
    "    4: 20\n",
    "}\n",
    "print(len(la_data[la_data['launch_angle_avg'] <= 5]))\n",
    "print(len(la_data[(la_data['launch_angle_avg'] > 5) & (la_data['launch_angle_avg'] <= 15)]))\n",
    "print(len(la_data[(la_data['launch_angle_avg'] > 15) & (la_data['launch_angle_avg'] <= 20)]))\n",
    "print(len(la_data[la_data['launch_angle_avg'] > 20]))"
   ]
  },
  {
   "cell_type": "code",
   "execution_count": 286,
   "metadata": {},
   "outputs": [],
   "source": [
    "def get_traj(la):\n",
    "    current_traj = 1\n",
    "    while current_traj < 4:\n",
    "        floor = trajectory_angle_conversion[current_traj + 1]\n",
    "        if la > floor:\n",
    "            current_traj += 1\n",
    "        else:\n",
    "            break\n",
    "    return current_traj"
   ]
  },
  {
   "cell_type": "code",
   "execution_count": 287,
   "metadata": {},
   "outputs": [
    {
     "data": {
      "text/html": [
       "<div>\n",
       "<style scoped>\n",
       "    .dataframe tbody tr th:only-of-type {\n",
       "        vertical-align: middle;\n",
       "    }\n",
       "\n",
       "    .dataframe tbody tr th {\n",
       "        vertical-align: top;\n",
       "    }\n",
       "\n",
       "    .dataframe thead th {\n",
       "        text-align: right;\n",
       "    }\n",
       "</style>\n",
       "<table border=\"1\" class=\"dataframe\">\n",
       "  <thead>\n",
       "    <tr style=\"text-align: right;\">\n",
       "      <th></th>\n",
       "      <th>PLAYERNAME</th>\n",
       "      <th>Trajectory</th>\n",
       "    </tr>\n",
       "  </thead>\n",
       "  <tbody>\n",
       "    <tr>\n",
       "      <th>405395</th>\n",
       "      <td>Albert Pujols</td>\n",
       "      <td>3</td>\n",
       "    </tr>\n",
       "    <tr>\n",
       "      <th>408234</th>\n",
       "      <td>Miguel Cabrera</td>\n",
       "      <td>2</td>\n",
       "    </tr>\n",
       "    <tr>\n",
       "      <th>425877</th>\n",
       "      <td>Yadier Molina</td>\n",
       "      <td>3</td>\n",
       "    </tr>\n",
       "    <tr>\n",
       "      <th>429664</th>\n",
       "      <td>Robinson Cano</td>\n",
       "      <td>2</td>\n",
       "    </tr>\n",
       "    <tr>\n",
       "      <th>435559</th>\n",
       "      <td>Kurt Suzuki</td>\n",
       "      <td>3</td>\n",
       "    </tr>\n",
       "  </tbody>\n",
       "</table>\n",
       "</div>"
      ],
      "text/plain": [
       "            PLAYERNAME  Trajectory\n",
       "405395   Albert Pujols           3\n",
       "408234  Miguel Cabrera           2\n",
       "425877   Yadier Molina           3\n",
       "429664   Robinson Cano           2\n",
       "435559     Kurt Suzuki           3"
      ]
     },
     "execution_count": 287,
     "metadata": {},
     "output_type": "execute_result"
    }
   ],
   "source": [
    "def assign_traj(year):\n",
    "    la_data = read_launch_angle(2022)\n",
    "    la_data['Trajectory'] = la_data.apply(lambda x: get_traj(x['launch_angle_avg']), axis=1)\n",
    "    return la_data[['PLAYERNAME', 'Trajectory']].dropna()\n",
    "\n",
    "traj_df = assign_traj(2022)\n",
    "traj_df.head()"
   ]
  },
  {
   "cell_type": "code",
   "execution_count": 293,
   "metadata": {},
   "outputs": [],
   "source": [
    "traj_df.to_csv('2022_Trajectory.csv')"
   ]
  },
  {
   "cell_type": "code",
   "execution_count": null,
   "metadata": {},
   "outputs": [],
   "source": []
  }
 ],
 "metadata": {
  "kernelspec": {
   "display_name": "Python 3",
   "language": "python",
   "name": "python3"
  },
  "language_info": {
   "codemirror_mode": {
    "name": "ipython",
    "version": 3
   },
   "file_extension": ".py",
   "mimetype": "text/x-python",
   "name": "python",
   "nbconvert_exporter": "python",
   "pygments_lexer": "ipython3",
   "version": "3.7.6"
  }
 },
 "nbformat": 4,
 "nbformat_minor": 4
}
