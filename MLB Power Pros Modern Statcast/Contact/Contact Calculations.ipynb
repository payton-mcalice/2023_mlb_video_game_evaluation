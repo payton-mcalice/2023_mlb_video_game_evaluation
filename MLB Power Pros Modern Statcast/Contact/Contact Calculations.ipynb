{
 "cells": [
  {
   "cell_type": "code",
   "execution_count": 1,
   "metadata": {},
   "outputs": [],
   "source": [
    "import pandas as pd"
   ]
  },
  {
   "cell_type": "code",
   "execution_count": 25,
   "metadata": {},
   "outputs": [
    {
     "data": {
      "text/html": [
       "<div>\n",
       "<style scoped>\n",
       "    .dataframe tbody tr th:only-of-type {\n",
       "        vertical-align: middle;\n",
       "    }\n",
       "\n",
       "    .dataframe tbody tr th {\n",
       "        vertical-align: top;\n",
       "    }\n",
       "\n",
       "    .dataframe thead th {\n",
       "        text-align: right;\n",
       "    }\n",
       "</style>\n",
       "<table border=\"1\" class=\"dataframe\">\n",
       "  <thead>\n",
       "    <tr style=\"text-align: right;\">\n",
       "      <th></th>\n",
       "      <th>PLAYERNAME</th>\n",
       "      <th>iz_contact_percent</th>\n",
       "      <th>Z</th>\n",
       "    </tr>\n",
       "  </thead>\n",
       "  <tbody>\n",
       "    <tr>\n",
       "      <th>405395</th>\n",
       "      <td>Albert Pujols</td>\n",
       "      <td>88.206873</td>\n",
       "      <td>1.244393</td>\n",
       "    </tr>\n",
       "    <tr>\n",
       "      <th>408234</th>\n",
       "      <td>Miguel Cabrera</td>\n",
       "      <td>81.101449</td>\n",
       "      <td>-0.011030</td>\n",
       "    </tr>\n",
       "    <tr>\n",
       "      <th>425877</th>\n",
       "      <td>Yadier Molina</td>\n",
       "      <td>81.766908</td>\n",
       "      <td>0.106547</td>\n",
       "    </tr>\n",
       "    <tr>\n",
       "      <th>429664</th>\n",
       "      <td>Robinson Cano</td>\n",
       "      <td>87.200000</td>\n",
       "      <td>1.066494</td>\n",
       "    </tr>\n",
       "    <tr>\n",
       "      <th>435559</th>\n",
       "      <td>Kurt Suzuki</td>\n",
       "      <td>86.663411</td>\n",
       "      <td>0.971687</td>\n",
       "    </tr>\n",
       "  </tbody>\n",
       "</table>\n",
       "</div>"
      ],
      "text/plain": [
       "            PLAYERNAME  iz_contact_percent         Z\n",
       "405395   Albert Pujols           88.206873  1.244393\n",
       "408234  Miguel Cabrera           81.101449 -0.011030\n",
       "425877   Yadier Molina           81.766908  0.106547\n",
       "429664   Robinson Cano           87.200000  1.066494\n",
       "435559     Kurt Suzuki           86.663411  0.971687"
      ]
     },
     "execution_count": 25,
     "metadata": {},
     "output_type": "execute_result"
    }
   ],
   "source": [
    "# from Baseball Savant, get weighted zone contact % using TY and LY data\n",
    "# min pa = 50\n",
    "def read_zone_contact(year):\n",
    "    df = pd.read_csv(f'Zone Contact {year - 1}-{year}.csv', index_col=False).drop('Unnamed: 7', axis=1)\n",
    "        \n",
    "    # for LY data, give it half-weight\n",
    "    df.loc[df['year'] < year, 'in_zone_swing'] /= 2\n",
    "    \n",
    "    # calculate the weighted launch angle\n",
    "    df['in_zone_contact'] = df['in_zone_swing'] * df['iz_contact_percent']\n",
    "    df_grouped = df.groupby(['player_id']).sum()\n",
    "    df_grouped['iz_contact_percent'] = df_grouped['in_zone_contact'] / df_grouped['in_zone_swing']\n",
    "    df_grouped = df_grouped[df_grouped['year'] >= year]\n",
    "    \n",
    "    # join with player ids\n",
    "    player_map = pd.read_csv('../PLAYERIDMAP 2022.csv')[['MLBID', 'PLAYERNAME']].set_index('MLBID')\n",
    "    merge = df_grouped[['iz_contact_percent']].merge(player_map, how='left', left_index=True, right_index=True)[['PLAYERNAME', 'iz_contact_percent']]\n",
    "    \n",
    "    mean = merge['iz_contact_percent'].mean()\n",
    "    std = merge['iz_contact_percent'].std()\n",
    "    \n",
    "    merge['Z'] = (merge['iz_contact_percent'] - mean) / std\n",
    "    \n",
    "    return merge\n",
    "\n",
    "zc_data = read_zone_contact(2022)\n",
    "zc_data.head()"
   ]
  },
  {
   "cell_type": "code",
   "execution_count": 71,
   "metadata": {},
   "outputs": [
    {
     "data": {
      "image/png": "[encoded data removed]",
      "text/plain": [
       "<Figure size 432x288 with 1 Axes>"
      ]
     },
     "metadata": {
      "needs_background": "light"
     },
     "output_type": "display_data"
    }
   ],
   "source": [
    "# CONVERSIONS:\n",
    "# 3-11\n",
    "contact_zc_conversion = {\n",
    "    4: -2.3,\n",
    "    5: -1.7,\n",
    "    6: -1.1,\n",
    "    7: -0.5,\n",
    "    8: 0.1,\n",
    "    9: 0.7,\n",
    "    10: 1.3,\n",
    "    11: 1.9,\n",
    "}\n",
    "hist = zc_data['Z'].hist(bins=9)"
   ]
  },
  {
   "cell_type": "code",
   "execution_count": 74,
   "metadata": {},
   "outputs": [],
   "source": [
    "def get_con(zc):\n",
    "    current_con = 3\n",
    "    while current_con < 11:\n",
    "        floor = contact_zc_conversion[current_con + 1]\n",
    "        if zc > floor:\n",
    "            current_con += 1\n",
    "        else:\n",
    "            break\n",
    "    return current_con"
   ]
  },
  {
   "cell_type": "code",
   "execution_count": 77,
   "metadata": {},
   "outputs": [
    {
     "data": {
      "text/html": [
       "<div>\n",
       "<style scoped>\n",
       "    .dataframe tbody tr th:only-of-type {\n",
       "        vertical-align: middle;\n",
       "    }\n",
       "\n",
       "    .dataframe tbody tr th {\n",
       "        vertical-align: top;\n",
       "    }\n",
       "\n",
       "    .dataframe thead th {\n",
       "        text-align: right;\n",
       "    }\n",
       "</style>\n",
       "<table border=\"1\" class=\"dataframe\">\n",
       "  <thead>\n",
       "    <tr style=\"text-align: right;\">\n",
       "      <th></th>\n",
       "      <th>PLAYERNAME</th>\n",
       "      <th>Contact</th>\n",
       "    </tr>\n",
       "  </thead>\n",
       "  <tbody>\n",
       "    <tr>\n",
       "      <th>405395</th>\n",
       "      <td>Albert Pujols</td>\n",
       "      <td>9</td>\n",
       "    </tr>\n",
       "    <tr>\n",
       "      <th>408234</th>\n",
       "      <td>Miguel Cabrera</td>\n",
       "      <td>7</td>\n",
       "    </tr>\n",
       "    <tr>\n",
       "      <th>425877</th>\n",
       "      <td>Yadier Molina</td>\n",
       "      <td>8</td>\n",
       "    </tr>\n",
       "    <tr>\n",
       "      <th>429664</th>\n",
       "      <td>Robinson Cano</td>\n",
       "      <td>9</td>\n",
       "    </tr>\n",
       "    <tr>\n",
       "      <th>435559</th>\n",
       "      <td>Kurt Suzuki</td>\n",
       "      <td>9</td>\n",
       "    </tr>\n",
       "  </tbody>\n",
       "</table>\n",
       "</div>"
      ],
      "text/plain": [
       "            PLAYERNAME  Contact\n",
       "405395   Albert Pujols        9\n",
       "408234  Miguel Cabrera        7\n",
       "425877   Yadier Molina        8\n",
       "429664   Robinson Cano        9\n",
       "435559     Kurt Suzuki        9"
      ]
     },
     "execution_count": 77,
     "metadata": {},
     "output_type": "execute_result"
    }
   ],
   "source": [
    "def assign_con(year):\n",
    "    zc_data = read_zone_contact(2022)\n",
    "    zc_data['Contact'] = zc_data.apply(lambda x: get_con(x['Z']), axis=1)\n",
    "    return zc_data[['PLAYERNAME', 'Contact']].dropna()\n",
    "\n",
    "con_df = assign_con(2022)\n",
    "con_df.head()"
   ]
  },
  {
   "cell_type": "code",
   "execution_count": 78,
   "metadata": {},
   "outputs": [],
   "source": [
    "con_df.to_csv('2022_Contact.csv')"
   ]
  },
  {
   "cell_type": "code",
   "execution_count": null,
   "metadata": {},
   "outputs": [],
   "source": []
  }
 ],
 "metadata": {
  "kernelspec": {
   "display_name": "Python 3",
   "language": "python",
   "name": "python3"
  },
  "language_info": {
   "codemirror_mode": {
    "name": "ipython",
    "version": 3
   },
   "file_extension": ".py",
   "mimetype": "text/x-python",
   "name": "python",
   "nbconvert_exporter": "python",
   "pygments_lexer": "ipython3",
   "version": "3.7.6"
  }
 },
 "nbformat": 4,
 "nbformat_minor": 4
}
