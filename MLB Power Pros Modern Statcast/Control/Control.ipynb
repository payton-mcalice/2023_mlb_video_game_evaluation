{
 "cells": [
  {
   "cell_type": "code",
   "execution_count": 2,
   "metadata": {},
   "outputs": [],
   "source": [
    "import pandas as pd"
   ]
  },
  {
   "cell_type": "code",
   "execution_count": 52,
   "metadata": {},
   "outputs": [
    {
     "data": {
      "text/html": [
       "<div>\n",
       "<style scoped>\n",
       "    .dataframe tbody tr th:only-of-type {\n",
       "        vertical-align: middle;\n",
       "    }\n",
       "\n",
       "    .dataframe tbody tr th {\n",
       "        vertical-align: top;\n",
       "    }\n",
       "\n",
       "    .dataframe thead th {\n",
       "        text-align: right;\n",
       "    }\n",
       "</style>\n",
       "<table border=\"1\" class=\"dataframe\">\n",
       "  <thead>\n",
       "    <tr style=\"text-align: right;\">\n",
       "      <th></th>\n",
       "      <th>PLAYERNAME</th>\n",
       "      <th>FPS%</th>\n",
       "      <th>Z</th>\n",
       "    </tr>\n",
       "  </thead>\n",
       "  <tbody>\n",
       "    <tr>\n",
       "      <th>425794</th>\n",
       "      <td>Adam Wainwright</td>\n",
       "      <td>63.230382</td>\n",
       "      <td>0.491192</td>\n",
       "    </tr>\n",
       "    <tr>\n",
       "      <th>425844</th>\n",
       "      <td>Zack Greinke</td>\n",
       "      <td>65.261124</td>\n",
       "      <td>1.000045</td>\n",
       "    </tr>\n",
       "    <tr>\n",
       "      <th>434378</th>\n",
       "      <td>Justin Verlander</td>\n",
       "      <td>62.000000</td>\n",
       "      <td>0.182888</td>\n",
       "    </tr>\n",
       "    <tr>\n",
       "      <th>434671</th>\n",
       "      <td>Anibal Sanchez</td>\n",
       "      <td>57.400000</td>\n",
       "      <td>-0.969758</td>\n",
       "    </tr>\n",
       "    <tr>\n",
       "      <th>445276</th>\n",
       "      <td>Kenley Jansen</td>\n",
       "      <td>66.633503</td>\n",
       "      <td>1.343929</td>\n",
       "    </tr>\n",
       "  </tbody>\n",
       "</table>\n",
       "</div>"
      ],
      "text/plain": [
       "              PLAYERNAME       FPS%         Z\n",
       "425794   Adam Wainwright  63.230382  0.491192\n",
       "425844      Zack Greinke  65.261124  1.000045\n",
       "434378  Justin Verlander  62.000000  0.182888\n",
       "434671    Anibal Sanchez  57.400000 -0.969758\n",
       "445276     Kenley Jansen  66.633503  1.343929"
      ]
     },
     "execution_count": 52,
     "metadata": {},
     "output_type": "execute_result"
    }
   ],
   "source": [
    "# from Baseball Savant, get first pitch strike% using TY and LY data\n",
    "# min pa = 50\n",
    "def read_fps(year):\n",
    "    df = pd.read_csv(f'Pitcher Control {year - 1}-{year}.csv', index_col=False).drop('Unnamed: 8', axis=1)\n",
    "                \n",
    "    # for LY data, give it half-weight\n",
    "    df.loc[df['year'] < year, 'p_formatted_ip'] /= 2\n",
    "    \n",
    "    # calculate the weighted launch angle\n",
    "    df['FPS'] = df['p_formatted_ip'] * df['f_strike_percent']\n",
    "    df_grouped = df.groupby(['player_id']).sum()\n",
    "    df_grouped['FPS%'] = df_grouped['FPS'] / df_grouped['p_formatted_ip']\n",
    "    df_grouped = df_grouped[df_grouped['year'] >= year]\n",
    "    \n",
    "    # join with player ids\n",
    "    player_map = pd.read_csv('../PLAYERIDMAP 2022.csv')[['MLBID', 'PLAYERNAME']].set_index('MLBID')\n",
    "    merge = df_grouped[['FPS%']].merge(player_map, how='left', left_index=True, right_index=True)[['PLAYERNAME', 'FPS%']]\n",
    "    \n",
    "    mean = merge['FPS%'].mean()\n",
    "    std = merge['FPS%'].std()\n",
    "    \n",
    "    merge['Z'] = (merge['FPS%'] - mean) / std\n",
    "    \n",
    "    return merge\n",
    "\n",
    "fps_data = read_fps(2022)\n",
    "fps_data.head()"
   ]
  },
  {
   "cell_type": "code",
   "execution_count": 38,
   "metadata": {},
   "outputs": [
    {
     "data": {
      "text/plain": [
       "0.044420154545454546"
      ]
     },
     "execution_count": 38,
     "metadata": {},
     "output_type": "execute_result"
    }
   ],
   "source": [
    "(2.137375 - -2.748842) / 110"
   ]
  },
  {
   "cell_type": "code",
   "execution_count": 32,
   "metadata": {},
   "outputs": [
    {
     "name": "stdout",
     "output_type": "stream",
     "text": [
      "0.6244009161836321\n",
      "-3.074589390580872\n",
      "3.7938206874390814\n",
      "0.06244009161836322\n"
     ]
    },
    {
     "data": {
      "image/png": "[encoded data removed]",
      "text/plain": [
       "<Figure size 432x288 with 1 Axes>"
      ]
     },
     "metadata": {
      "needs_background": "light"
     },
     "output_type": "display_data"
    }
   ],
   "source": [
    "print((fps_data['Z'].max() - fps_data['Z'].min()) / 11)\n",
    "print(fps_data['Z'].min())\n",
    "print(fps_data['Z'].max())\n",
    "print((fps_data['Z'].max() - fps_data['Z'].min()) / 110)\n",
    "hist = fps_data['Z'].hist(bins=111)"
   ]
  },
  {
   "cell_type": "code",
   "execution_count": 47,
   "metadata": {},
   "outputs": [
    {
     "data": {
      "text/plain": [
       "184"
      ]
     },
     "execution_count": 47,
     "metadata": {},
     "output_type": "execute_result"
    }
   ],
   "source": [
    "def get_ctrl(fps):\n",
    "    i = 0\n",
    "    while i < 110:\n",
    "        floor = -2.1 + (i * 0.04442)\n",
    "        if fps > floor:\n",
    "            i += 1\n",
    "        else:\n",
    "            break\n",
    "    return 80 + i\n",
    "get_ctrl(2.5)"
   ]
  },
  {
   "cell_type": "code",
   "execution_count": 48,
   "metadata": {},
   "outputs": [
    {
     "data": {
      "text/html": [
       "<div>\n",
       "<style scoped>\n",
       "    .dataframe tbody tr th:only-of-type {\n",
       "        vertical-align: middle;\n",
       "    }\n",
       "\n",
       "    .dataframe tbody tr th {\n",
       "        vertical-align: top;\n",
       "    }\n",
       "\n",
       "    .dataframe thead th {\n",
       "        text-align: right;\n",
       "    }\n",
       "</style>\n",
       "<table border=\"1\" class=\"dataframe\">\n",
       "  <thead>\n",
       "    <tr style=\"text-align: right;\">\n",
       "      <th></th>\n",
       "      <th>PLAYERNAME</th>\n",
       "      <th>Control</th>\n",
       "    </tr>\n",
       "  </thead>\n",
       "  <tbody>\n",
       "    <tr>\n",
       "      <th>425794</th>\n",
       "      <td>Adam Wainwright</td>\n",
       "      <td>139</td>\n",
       "    </tr>\n",
       "    <tr>\n",
       "      <th>425844</th>\n",
       "      <td>Zack Greinke</td>\n",
       "      <td>150</td>\n",
       "    </tr>\n",
       "    <tr>\n",
       "      <th>434378</th>\n",
       "      <td>Justin Verlander</td>\n",
       "      <td>132</td>\n",
       "    </tr>\n",
       "    <tr>\n",
       "      <th>434671</th>\n",
       "      <td>Anibal Sanchez</td>\n",
       "      <td>106</td>\n",
       "    </tr>\n",
       "    <tr>\n",
       "      <th>445276</th>\n",
       "      <td>Kenley Jansen</td>\n",
       "      <td>158</td>\n",
       "    </tr>\n",
       "  </tbody>\n",
       "</table>\n",
       "</div>"
      ],
      "text/plain": [
       "              PLAYERNAME  Control\n",
       "425794   Adam Wainwright      139\n",
       "425844      Zack Greinke      150\n",
       "434378  Justin Verlander      132\n",
       "434671    Anibal Sanchez      106\n",
       "445276     Kenley Jansen      158"
      ]
     },
     "execution_count": 48,
     "metadata": {},
     "output_type": "execute_result"
    }
   ],
   "source": [
    "def assign_ctrl(year):\n",
    "    ctrl_data = read_fps(2022)\n",
    "    ctrl_data['Control'] = ctrl_data.apply(lambda x: get_ctrl(x['Z']), axis=1)\n",
    "    return ctrl_data[['PLAYERNAME', 'Control']].dropna()\n",
    "\n",
    "ctrl_df = assign_ctrl(2022)\n",
    "ctrl_df.head()"
   ]
  },
  {
   "cell_type": "code",
   "execution_count": 50,
   "metadata": {},
   "outputs": [],
   "source": [
    "ctrl_df.to_csv('2022_Control.csv')"
   ]
  },
  {
   "cell_type": "code",
   "execution_count": null,
   "metadata": {},
   "outputs": [],
   "source": []
  }
 ],
 "metadata": {
  "kernelspec": {
   "display_name": "Python 3",
   "language": "python",
   "name": "python3"
  },
  "language_info": {
   "codemirror_mode": {
    "name": "ipython",
    "version": 3
   },
   "file_extension": ".py",
   "mimetype": "text/x-python",
   "name": "python",
   "nbconvert_exporter": "python",
   "pygments_lexer": "ipython3",
   "version": "3.7.6"
  }
 },
 "nbformat": 4,
 "nbformat_minor": 4
}
