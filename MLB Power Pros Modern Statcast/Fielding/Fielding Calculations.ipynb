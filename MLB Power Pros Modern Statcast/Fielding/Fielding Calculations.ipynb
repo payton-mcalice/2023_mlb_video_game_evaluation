{
 "cells": [
  {
   "cell_type": "code",
   "execution_count": 82,
   "metadata": {},
   "outputs": [],
   "source": [
    "import pandas as pd"
   ]
  },
  {
   "cell_type": "code",
   "execution_count": 105,
   "metadata": {},
   "outputs": [
    {
     "data": {
      "text/html": [
       "<div>\n",
       "<style scoped>\n",
       "    .dataframe tbody tr th:only-of-type {\n",
       "        vertical-align: middle;\n",
       "    }\n",
       "\n",
       "    .dataframe tbody tr th {\n",
       "        vertical-align: top;\n",
       "    }\n",
       "\n",
       "    .dataframe thead th {\n",
       "        text-align: right;\n",
       "    }\n",
       "</style>\n",
       "<table border=\"1\" class=\"dataframe\">\n",
       "  <thead>\n",
       "    <tr style=\"text-align: right;\">\n",
       "      <th></th>\n",
       "      <th>PLAYERNAME</th>\n",
       "      <th>Z</th>\n",
       "    </tr>\n",
       "    <tr>\n",
       "      <th>MLBID</th>\n",
       "      <th></th>\n",
       "      <th></th>\n",
       "    </tr>\n",
       "  </thead>\n",
       "  <tbody>\n",
       "    <tr>\n",
       "      <th>405395.0</th>\n",
       "      <td>Albert Pujols</td>\n",
       "      <td>-0.235549</td>\n",
       "    </tr>\n",
       "    <tr>\n",
       "      <th>425877.0</th>\n",
       "      <td>Yadier Molina</td>\n",
       "      <td>0.936904</td>\n",
       "    </tr>\n",
       "    <tr>\n",
       "      <th>429664.0</th>\n",
       "      <td>Robinson Cano</td>\n",
       "      <td>-0.731059</td>\n",
       "    </tr>\n",
       "    <tr>\n",
       "      <th>435559.0</th>\n",
       "      <td>Kurt Suzuki</td>\n",
       "      <td>-0.337148</td>\n",
       "    </tr>\n",
       "    <tr>\n",
       "      <th>444482.0</th>\n",
       "      <td>David Peralta</td>\n",
       "      <td>0.023368</td>\n",
       "    </tr>\n",
       "  </tbody>\n",
       "</table>\n",
       "</div>"
      ],
      "text/plain": [
       "             PLAYERNAME         Z\n",
       "MLBID                            \n",
       "405395.0  Albert Pujols -0.235549\n",
       "425877.0  Yadier Molina  0.936904\n",
       "429664.0  Robinson Cano -0.731059\n",
       "435559.0    Kurt Suzuki -0.337148\n",
       "444482.0  David Peralta  0.023368"
      ]
     },
     "execution_count": 105,
     "metadata": {},
     "output_type": "execute_result"
    }
   ],
   "source": [
    "# from FanGraphs, get DWAR usingTY data\n",
    "def read_dwar(year):\n",
    "    df = pd.read_csv(f'DWAR {year - 1}-{year}.csv', index_col=False).sort_values('Inn', ascending=False).drop_duplicates(subset='playerid', keep='last')\n",
    "\n",
    "    df = df[df['Def'].notna()].sort_values(\"Def\")\n",
    "    df['DWAR/Inn'] = df['Def'] / df['Inn']\n",
    "        \n",
    "    # join with player ids\n",
    "    player_map = pd.read_csv('../PLAYERIDMAP 2022.csv')[['IDFANGRAPHS', 'PLAYERNAME', 'MLBID']]#.set_index('IDFANGRAPHS')\n",
    "        \n",
    "    df['playerid'] = df['playerid'].astype(str)\n",
    "    \n",
    "    merge = df[['playerid','DWAR/Inn']].merge(player_map, how='left', left_on='playerid', right_on='IDFANGRAPHS').set_index('MLBID')[['PLAYERNAME', 'DWAR/Inn']]\n",
    "        \n",
    "    mean = merge['DWAR/Inn'].mean()\n",
    "    std = merge['DWAR/Inn'].std()\n",
    "    \n",
    "    merge['Z'] = (merge['DWAR/Inn'] - mean) / std\n",
    "    \n",
    "    return merge[['PLAYERNAME', 'Z']].reset_index().groupby(['MLBID', 'PLAYERNAME']).max().reset_index().set_index('MLBID')\n",
    "\n",
    "dw_data = read_dwar(2022)\n",
    "dw_data.head()"
   ]
  },
  {
   "cell_type": "code",
   "execution_count": 96,
   "metadata": {},
   "outputs": [
    {
     "name": "stdout",
     "output_type": "stream",
     "text": [
      "0.9993971821109228\n",
      "-7.605579016871268\n",
      "3.3877899863488827\n"
     ]
    },
    {
     "data": {
      "image/png": "[encoded data removed]",
      "text/plain": [
       "<Figure size 432x288 with 1 Axes>"
      ]
     },
     "metadata": {
      "needs_background": "light"
     },
     "output_type": "display_data"
    }
   ],
   "source": [
    "print((dw_data['Z'].max() - dw_data['Z'].min()) / 11)\n",
    "print(dw_data['Z'].min())\n",
    "print(dw_data['Z'].max())\n",
    "hist = dw_data['Z'].hist(bins=11)"
   ]
  },
  {
   "cell_type": "code",
   "execution_count": 97,
   "metadata": {},
   "outputs": [],
   "source": [
    "# floor and increment based on players with min. 150 innings\n",
    "def get_fielding(dw):\n",
    "    i = 0\n",
    "    while i < 10:\n",
    "        floor = -3.13 + (i * 0.6)\n",
    "        if dw > floor:\n",
    "            i += 1\n",
    "        else:\n",
    "            break\n",
    "    return 4 + i"
   ]
  },
  {
   "cell_type": "code",
   "execution_count": 98,
   "metadata": {},
   "outputs": [
    {
     "data": {
      "text/html": [
       "<div>\n",
       "<style scoped>\n",
       "    .dataframe tbody tr th:only-of-type {\n",
       "        vertical-align: middle;\n",
       "    }\n",
       "\n",
       "    .dataframe tbody tr th {\n",
       "        vertical-align: top;\n",
       "    }\n",
       "\n",
       "    .dataframe thead th {\n",
       "        text-align: right;\n",
       "    }\n",
       "</style>\n",
       "<table border=\"1\" class=\"dataframe\">\n",
       "  <thead>\n",
       "    <tr style=\"text-align: right;\">\n",
       "      <th></th>\n",
       "      <th>PLAYERNAME</th>\n",
       "      <th>Fielding</th>\n",
       "    </tr>\n",
       "    <tr>\n",
       "      <th>MLBID</th>\n",
       "      <th></th>\n",
       "      <th></th>\n",
       "    </tr>\n",
       "  </thead>\n",
       "  <tbody>\n",
       "    <tr>\n",
       "      <th>405395.0</th>\n",
       "      <td>Albert Pujols</td>\n",
       "      <td>9</td>\n",
       "    </tr>\n",
       "    <tr>\n",
       "      <th>425877.0</th>\n",
       "      <td>Yadier Molina</td>\n",
       "      <td>11</td>\n",
       "    </tr>\n",
       "    <tr>\n",
       "      <th>429664.0</th>\n",
       "      <td>Robinson Cano</td>\n",
       "      <td>8</td>\n",
       "    </tr>\n",
       "    <tr>\n",
       "      <th>435559.0</th>\n",
       "      <td>Kurt Suzuki</td>\n",
       "      <td>9</td>\n",
       "    </tr>\n",
       "    <tr>\n",
       "      <th>444482.0</th>\n",
       "      <td>David Peralta</td>\n",
       "      <td>10</td>\n",
       "    </tr>\n",
       "  </tbody>\n",
       "</table>\n",
       "</div>"
      ],
      "text/plain": [
       "             PLAYERNAME  Fielding\n",
       "MLBID                            \n",
       "405395.0  Albert Pujols         9\n",
       "425877.0  Yadier Molina        11\n",
       "429664.0  Robinson Cano         8\n",
       "435559.0    Kurt Suzuki         9\n",
       "444482.0  David Peralta        10"
      ]
     },
     "execution_count": 98,
     "metadata": {},
     "output_type": "execute_result"
    }
   ],
   "source": [
    "def assign_fld(year):\n",
    "    fld_data = read_dwar(2022)\n",
    "    fld_data['Fielding'] = fld_data.apply(lambda x: get_fielding(x['Z']), axis=1)\n",
    "    return fld_data[['PLAYERNAME', 'Fielding']].dropna()\n",
    "\n",
    "fld_df = assign_fld(2022)\n",
    "fld_df.head()"
   ]
  },
  {
   "cell_type": "code",
   "execution_count": 99,
   "metadata": {},
   "outputs": [],
   "source": [
    "fld_df.to_csv('2022_Fielding.csv')"
   ]
  },
  {
   "cell_type": "code",
   "execution_count": 103,
   "metadata": {},
   "outputs": [
    {
     "data": {
      "text/html": [
       "<div>\n",
       "<style scoped>\n",
       "    .dataframe tbody tr th:only-of-type {\n",
       "        vertical-align: middle;\n",
       "    }\n",
       "\n",
       "    .dataframe tbody tr th {\n",
       "        vertical-align: top;\n",
       "    }\n",
       "\n",
       "    .dataframe thead th {\n",
       "        text-align: right;\n",
       "    }\n",
       "</style>\n",
       "<table border=\"1\" class=\"dataframe\">\n",
       "  <thead>\n",
       "    <tr style=\"text-align: right;\">\n",
       "      <th></th>\n",
       "      <th>PLAYERNAME</th>\n",
       "      <th>Fielding</th>\n",
       "    </tr>\n",
       "    <tr>\n",
       "      <th>MLBID</th>\n",
       "      <th></th>\n",
       "      <th></th>\n",
       "    </tr>\n",
       "  </thead>\n",
       "  <tbody>\n",
       "    <tr>\n",
       "      <th>542340.0</th>\n",
       "      <td>Jonathan Villar</td>\n",
       "      <td>4</td>\n",
       "    </tr>\n",
       "    <tr>\n",
       "      <th>543510.0</th>\n",
       "      <td>James McCann</td>\n",
       "      <td>4</td>\n",
       "    </tr>\n",
       "    <tr>\n",
       "      <th>600301.0</th>\n",
       "      <td>Taylor Motter</td>\n",
       "      <td>4</td>\n",
       "    </tr>\n",
       "    <tr>\n",
       "      <th>621458.0</th>\n",
       "      <td>Edwin Rios</td>\n",
       "      <td>4</td>\n",
       "    </tr>\n",
       "    <tr>\n",
       "      <th>650333.0</th>\n",
       "      <td>Luis Arraez</td>\n",
       "      <td>4</td>\n",
       "    </tr>\n",
       "    <tr>\n",
       "      <th>660829.0</th>\n",
       "      <td>Hoy Park</td>\n",
       "      <td>4</td>\n",
       "    </tr>\n",
       "  </tbody>\n",
       "</table>\n",
       "</div>"
      ],
      "text/plain": [
       "               PLAYERNAME  Fielding\n",
       "MLBID                              \n",
       "542340.0  Jonathan Villar         4\n",
       "543510.0     James McCann         4\n",
       "600301.0    Taylor Motter         4\n",
       "621458.0       Edwin Rios         4\n",
       "650333.0      Luis Arraez         4\n",
       "660829.0         Hoy Park         4"
      ]
     },
     "execution_count": 103,
     "metadata": {},
     "output_type": "execute_result"
    }
   ],
   "source": [
    "fld_df[fld_df['Fielding'] == 4]"
   ]
  },
  {
   "cell_type": "code",
   "execution_count": null,
   "metadata": {},
   "outputs": [],
   "source": []
  }
 ],
 "metadata": {
  "kernelspec": {
   "display_name": "Python 3",
   "language": "python",
   "name": "python3"
  },
  "language_info": {
   "codemirror_mode": {
    "name": "ipython",
    "version": 3
   },
   "file_extension": ".py",
   "mimetype": "text/x-python",
   "name": "python",
   "nbconvert_exporter": "python",
   "pygments_lexer": "ipython3",
   "version": "3.7.6"
  }
 },
 "nbformat": 4,
 "nbformat_minor": 4
}
