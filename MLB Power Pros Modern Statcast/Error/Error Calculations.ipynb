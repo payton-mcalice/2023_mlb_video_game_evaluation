{
 "cells": [
  {
   "cell_type": "code",
   "execution_count": 1,
   "metadata": {},
   "outputs": [],
   "source": [
    "import pandas as pd"
   ]
  },
  {
   "cell_type": "code",
   "execution_count": 2,
   "metadata": {},
   "outputs": [
    {
     "data": {
      "text/html": [
       "<div>\n",
       "<style scoped>\n",
       "    .dataframe tbody tr th:only-of-type {\n",
       "        vertical-align: middle;\n",
       "    }\n",
       "\n",
       "    .dataframe tbody tr th {\n",
       "        vertical-align: top;\n",
       "    }\n",
       "\n",
       "    .dataframe thead th {\n",
       "        text-align: right;\n",
       "    }\n",
       "</style>\n",
       "<table border=\"1\" class=\"dataframe\">\n",
       "  <thead>\n",
       "    <tr style=\"text-align: right;\">\n",
       "      <th></th>\n",
       "      <th>PLAYERNAME</th>\n",
       "      <th>Z</th>\n",
       "    </tr>\n",
       "    <tr>\n",
       "      <th>MLBID</th>\n",
       "      <th></th>\n",
       "      <th></th>\n",
       "    </tr>\n",
       "  </thead>\n",
       "  <tbody>\n",
       "    <tr>\n",
       "      <th>405395.0</th>\n",
       "      <td>Albert Pujols</td>\n",
       "      <td>0.495274</td>\n",
       "    </tr>\n",
       "    <tr>\n",
       "      <th>429664.0</th>\n",
       "      <td>Robinson Cano</td>\n",
       "      <td>0.463876</td>\n",
       "    </tr>\n",
       "    <tr>\n",
       "      <th>444482.0</th>\n",
       "      <td>David Peralta</td>\n",
       "      <td>0.141105</td>\n",
       "    </tr>\n",
       "    <tr>\n",
       "      <th>444876.0</th>\n",
       "      <td>Alcides Escobar</td>\n",
       "      <td>-0.257806</td>\n",
       "    </tr>\n",
       "    <tr>\n",
       "      <th>446334.0</th>\n",
       "      <td>Evan Longoria</td>\n",
       "      <td>0.163113</td>\n",
       "    </tr>\n",
       "  </tbody>\n",
       "</table>\n",
       "</div>"
      ],
      "text/plain": [
       "               PLAYERNAME         Z\n",
       "MLBID                              \n",
       "405395.0    Albert Pujols  0.495274\n",
       "429664.0    Robinson Cano  0.463876\n",
       "444482.0    David Peralta  0.141105\n",
       "444876.0  Alcides Escobar -0.257806\n",
       "446334.0    Evan Longoria  0.163113"
      ]
     },
     "execution_count": 2,
     "metadata": {},
     "output_type": "execute_result"
    }
   ],
   "source": [
    "# from FanGraphs, get DWAR usingTY data\n",
    "def read_errr(year):\n",
    "    df = pd.read_csv(f'DWAR {year - 1}-{year}.csv', index_col=False).sort_values('Inn', ascending=False).drop_duplicates(subset='playerid', keep='last')\n",
    "    \n",
    "    df = df[df['ErrR'].notna()].sort_values(\"ErrR\")\n",
    "    df['ErrR/Inn'] = df['ErrR'] / df['Inn']\n",
    "        \n",
    "    # join with player ids\n",
    "    player_map = pd.read_csv('../PLAYERIDMAP 2022.csv')[['IDFANGRAPHS', 'PLAYERNAME', 'MLBID']]#.set_index('IDFANGRAPHS')\n",
    "        \n",
    "    df['playerid'] = df['playerid'].astype(str)\n",
    "    \n",
    "    merge = df[['playerid','ErrR/Inn']].merge(player_map, how='left', left_on='playerid', right_on='IDFANGRAPHS').set_index('MLBID')[['PLAYERNAME', 'ErrR/Inn']]\n",
    "        \n",
    "    mean = merge['ErrR/Inn'].mean()\n",
    "    std = merge['ErrR/Inn'].std()\n",
    "    \n",
    "    merge['Z'] = (merge['ErrR/Inn'] - mean) / std\n",
    "    \n",
    "    return merge[['PLAYERNAME', 'Z']].reset_index().groupby(['MLBID', 'PLAYERNAME']).max().reset_index().set_index('MLBID')\n",
    "\n",
    "e_data = read_errr(2022)\n",
    "e_data.head()"
   ]
  },
  {
   "cell_type": "code",
   "execution_count": 3,
   "metadata": {},
   "outputs": [
    {
     "name": "stdout",
     "output_type": "stream",
     "text": [
      "1.4619201988335506\n",
      "-14.025712928495285\n",
      "2.055409258673774\n"
     ]
    },
    {
     "data": {
      "image/png": "[encoded data removed]",
      "text/plain": [
       "<Figure size 432x288 with 1 Axes>"
      ]
     },
     "metadata": {
      "needs_background": "light"
     },
     "output_type": "display_data"
    }
   ],
   "source": [
    "print((e_data['Z'].max() - e_data['Z'].min()) / 11)\n",
    "print(e_data['Z'].min())\n",
    "print(e_data['Z'].max())\n",
    "hist = e_data['Z'].hist(bins=11)"
   ]
  },
  {
   "cell_type": "code",
   "execution_count": 4,
   "metadata": {},
   "outputs": [],
   "source": [
    "# floor and increment based on players with min. 150 innings\n",
    "def get_error(e):\n",
    "    i = 0\n",
    "    while i < 10:\n",
    "        floor = -4.87 + (i * 0.686)\n",
    "        if e > floor:\n",
    "            i += 1\n",
    "        else:\n",
    "            break\n",
    "    return 4 + i"
   ]
  },
  {
   "cell_type": "code",
   "execution_count": 8,
   "metadata": {},
   "outputs": [
    {
     "data": {
      "text/html": [
       "<div>\n",
       "<style scoped>\n",
       "    .dataframe tbody tr th:only-of-type {\n",
       "        vertical-align: middle;\n",
       "    }\n",
       "\n",
       "    .dataframe tbody tr th {\n",
       "        vertical-align: top;\n",
       "    }\n",
       "\n",
       "    .dataframe thead th {\n",
       "        text-align: right;\n",
       "    }\n",
       "</style>\n",
       "<table border=\"1\" class=\"dataframe\">\n",
       "  <thead>\n",
       "    <tr style=\"text-align: right;\">\n",
       "      <th></th>\n",
       "      <th>PLAYERNAME</th>\n",
       "      <th>Error Resistance</th>\n",
       "    </tr>\n",
       "    <tr>\n",
       "      <th>MLBID</th>\n",
       "      <th></th>\n",
       "      <th></th>\n",
       "    </tr>\n",
       "  </thead>\n",
       "  <tbody>\n",
       "    <tr>\n",
       "      <th>405395.0</th>\n",
       "      <td>Albert Pujols</td>\n",
       "      <td>12</td>\n",
       "    </tr>\n",
       "    <tr>\n",
       "      <th>429664.0</th>\n",
       "      <td>Robinson Cano</td>\n",
       "      <td>12</td>\n",
       "    </tr>\n",
       "    <tr>\n",
       "      <th>444482.0</th>\n",
       "      <td>David Peralta</td>\n",
       "      <td>12</td>\n",
       "    </tr>\n",
       "    <tr>\n",
       "      <th>444876.0</th>\n",
       "      <td>Alcides Escobar</td>\n",
       "      <td>11</td>\n",
       "    </tr>\n",
       "    <tr>\n",
       "      <th>446334.0</th>\n",
       "      <td>Evan Longoria</td>\n",
       "      <td>12</td>\n",
       "    </tr>\n",
       "  </tbody>\n",
       "</table>\n",
       "</div>"
      ],
      "text/plain": [
       "               PLAYERNAME  Error Resistance\n",
       "MLBID                                      \n",
       "405395.0    Albert Pujols                12\n",
       "429664.0    Robinson Cano                12\n",
       "444482.0    David Peralta                12\n",
       "444876.0  Alcides Escobar                11\n",
       "446334.0    Evan Longoria                12"
      ]
     },
     "execution_count": 8,
     "metadata": {},
     "output_type": "execute_result"
    }
   ],
   "source": [
    "def assign_er(year):\n",
    "    er_data = read_errr(2022)\n",
    "    er_data['Error Resistance'] = er_data.apply(lambda x: get_error(x['Z']), axis=1)\n",
    "    return er_data[['PLAYERNAME', 'Error Resistance']].dropna()\n",
    "\n",
    "er_df = assign_er(2022)\n",
    "er_df.head()"
   ]
  },
  {
   "cell_type": "code",
   "execution_count": 48,
   "metadata": {},
   "outputs": [],
   "source": [
    "er_df.to_csv('2022_ER.csv')"
   ]
  },
  {
   "cell_type": "code",
   "execution_count": 9,
   "metadata": {},
   "outputs": [
    {
     "data": {
      "text/html": [
       "<div>\n",
       "<style scoped>\n",
       "    .dataframe tbody tr th:only-of-type {\n",
       "        vertical-align: middle;\n",
       "    }\n",
       "\n",
       "    .dataframe tbody tr th {\n",
       "        vertical-align: top;\n",
       "    }\n",
       "\n",
       "    .dataframe thead th {\n",
       "        text-align: right;\n",
       "    }\n",
       "</style>\n",
       "<table border=\"1\" class=\"dataframe\">\n",
       "  <thead>\n",
       "    <tr style=\"text-align: right;\">\n",
       "      <th></th>\n",
       "      <th>PLAYERNAME</th>\n",
       "      <th>Error Resistance</th>\n",
       "    </tr>\n",
       "    <tr>\n",
       "      <th>MLBID</th>\n",
       "      <th></th>\n",
       "      <th></th>\n",
       "    </tr>\n",
       "  </thead>\n",
       "  <tbody>\n",
       "  </tbody>\n",
       "</table>\n",
       "</div>"
      ],
      "text/plain": [
       "Empty DataFrame\n",
       "Columns: [PLAYERNAME, Error Resistance]\n",
       "Index: []"
      ]
     },
     "execution_count": 9,
     "metadata": {},
     "output_type": "execute_result"
    }
   ],
   "source": [
    "er_df[er_df['PLAYERNAME'] == 'Mike Zunino']"
   ]
  },
  {
   "cell_type": "code",
   "execution_count": 6,
   "metadata": {},
   "outputs": [
    {
     "data": {
      "image/png": "[encoded data removed]",
      "text/plain": [
       "<Figure size 432x288 with 1 Axes>"
      ]
     },
     "metadata": {
      "needs_background": "light"
     },
     "output_type": "display_data"
    }
   ],
   "source": [
    "er_df = er_df['Error Resistance'].hist(bins=11)"
   ]
  },
  {
   "cell_type": "code",
   "execution_count": null,
   "metadata": {},
   "outputs": [],
   "source": []
  }
 ],
 "metadata": {
  "kernelspec": {
   "display_name": "Python 3",
   "language": "python",
   "name": "python3"
  },
  "language_info": {
   "codemirror_mode": {
    "name": "ipython",
    "version": 3
   },
   "file_extension": ".py",
   "mimetype": "text/x-python",
   "name": "python",
   "nbconvert_exporter": "python",
   "pygments_lexer": "ipython3",
   "version": "3.7.6"
  }
 },
 "nbformat": 4,
 "nbformat_minor": 4
}
