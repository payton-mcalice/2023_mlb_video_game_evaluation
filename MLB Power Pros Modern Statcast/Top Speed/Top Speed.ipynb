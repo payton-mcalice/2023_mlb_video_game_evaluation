{
 "cells": [
  {
   "cell_type": "code",
   "execution_count": 20,
   "metadata": {},
   "outputs": [],
   "source": [
    "import pandas as pd"
   ]
  },
  {
   "cell_type": "code",
   "execution_count": 25,
   "metadata": {},
   "outputs": [
    {
     "data": {
      "text/html": [
       "<div>\n",
       "<style scoped>\n",
       "    .dataframe tbody tr th:only-of-type {\n",
       "        vertical-align: middle;\n",
       "    }\n",
       "\n",
       "    .dataframe tbody tr th {\n",
       "        vertical-align: top;\n",
       "    }\n",
       "\n",
       "    .dataframe thead th {\n",
       "        text-align: right;\n",
       "    }\n",
       "</style>\n",
       "<table border=\"1\" class=\"dataframe\">\n",
       "  <thead>\n",
       "    <tr style=\"text-align: right;\">\n",
       "      <th></th>\n",
       "      <th>PLAYERNAME</th>\n",
       "      <th>Top Speed</th>\n",
       "    </tr>\n",
       "  </thead>\n",
       "  <tbody>\n",
       "    <tr>\n",
       "      <th>425794</th>\n",
       "      <td>Adam Wainwright</td>\n",
       "      <td>90.0</td>\n",
       "    </tr>\n",
       "    <tr>\n",
       "      <th>425844</th>\n",
       "      <td>Zack Greinke</td>\n",
       "      <td>91.0</td>\n",
       "    </tr>\n",
       "    <tr>\n",
       "      <th>434378</th>\n",
       "      <td>Justin Verlander</td>\n",
       "      <td>96.0</td>\n",
       "    </tr>\n",
       "    <tr>\n",
       "      <th>434671</th>\n",
       "      <td>Anibal Sanchez</td>\n",
       "      <td>91.0</td>\n",
       "    </tr>\n",
       "    <tr>\n",
       "      <th>445276</th>\n",
       "      <td>Kenley Jansen</td>\n",
       "      <td>95.0</td>\n",
       "    </tr>\n",
       "  </tbody>\n",
       "</table>\n",
       "</div>"
      ],
      "text/plain": [
       "              PLAYERNAME  Top Speed\n",
       "425794   Adam Wainwright       90.0\n",
       "425844      Zack Greinke       91.0\n",
       "434378  Justin Verlander       96.0\n",
       "434671    Anibal Sanchez       91.0\n",
       "445276     Kenley Jansen       95.0"
      ]
     },
     "execution_count": 25,
     "metadata": {},
     "output_type": "execute_result"
    }
   ],
   "source": [
    "# from Baseball Savant, get get speed using TY and LY data\n",
    "# min pa = 50\n",
    "def read_ps(year):\n",
    "    df = pd.read_csv(f'Pitch Speed {year - 1}-{year}.csv', index_col=False).drop('Unnamed: 13', axis=1).fillna(0)\n",
    "    \n",
    "    df['FF_SPD'] = df['ff_avg_speed'] + df['ff_range_speed']\n",
    "    df['SI_SPD'] = df['si_avg_speed'] + df['si_range_speed']\n",
    "    df['FC_SPD'] = df['fc_avg_speed'] + df['fc_range_speed']\n",
    "    df['Top Speed'] = df.apply(lambda x: max(x['FF_SPD'], x['SI_SPD'], x['FC_SPD']), axis=1)\n",
    "                \n",
    "    # for LY data, give it half-weight\n",
    "    df.loc[df['year'] < year, 'p_formatted_ip'] /= 2\n",
    "    \n",
    "    # calculate the weighted launch angle\n",
    "    df['Weight'] = df['p_formatted_ip'] * df['Top Speed']\n",
    "    df_grouped = df.groupby(['player_id']).sum()\n",
    "    df_grouped['Top Speed'] = df_grouped['Weight'] / df_grouped['p_formatted_ip']\n",
    "    df_grouped = df_grouped[df_grouped['year'] >= year]\n",
    "    \n",
    "    # join with player ids\n",
    "    player_map = pd.read_csv('../PLAYERIDMAP 2022.csv')[['MLBID', 'PLAYERNAME']].set_index('MLBID')\n",
    "    merge = df_grouped[['Top Speed']].merge(player_map, how='left', left_index=True, right_index=True)[['PLAYERNAME', 'Top Speed']]\n",
    "    \n",
    "#     mean = merge['FPS%'].mean()\n",
    "#     std = merge['FPS%'].std()\n",
    "    \n",
    "#     merge['Z'] = (merge['FPS%'] - mean) / std\n",
    "    \n",
    "    merge['Top Speed'] = round(merge['Top Speed'])\n",
    "    \n",
    "    return merge\n",
    "\n",
    "ps_data = read_ps(2022)\n",
    "ps_data.head()"
   ]
  },
  {
   "cell_type": "code",
   "execution_count": 26,
   "metadata": {},
   "outputs": [
    {
     "data": {
      "image/png": "[encoded data removed]",
      "text/plain": [
       "<Figure size 432x288 with 1 Axes>"
      ]
     },
     "metadata": {
      "needs_background": "light"
     },
     "output_type": "display_data"
    }
   ],
   "source": [
    "hist = ps_data['Top Speed'].hist(bins=20)"
   ]
  },
  {
   "cell_type": "code",
   "execution_count": 17,
   "metadata": {},
   "outputs": [
    {
     "data": {
      "text/html": [
       "<div>\n",
       "<style scoped>\n",
       "    .dataframe tbody tr th:only-of-type {\n",
       "        vertical-align: middle;\n",
       "    }\n",
       "\n",
       "    .dataframe tbody tr th {\n",
       "        vertical-align: top;\n",
       "    }\n",
       "\n",
       "    .dataframe thead th {\n",
       "        text-align: right;\n",
       "    }\n",
       "</style>\n",
       "<table border=\"1\" class=\"dataframe\">\n",
       "  <thead>\n",
       "    <tr style=\"text-align: right;\">\n",
       "      <th></th>\n",
       "      <th>PLAYERNAME</th>\n",
       "      <th>Top Speed</th>\n",
       "    </tr>\n",
       "  </thead>\n",
       "  <tbody>\n",
       "    <tr>\n",
       "      <th>502085</th>\n",
       "      <td>David Robertson</td>\n",
       "      <td>0.0</td>\n",
       "    </tr>\n",
       "    <tr>\n",
       "      <th>476595</th>\n",
       "      <td>Lucas Luetge</td>\n",
       "      <td>35.0</td>\n",
       "    </tr>\n",
       "    <tr>\n",
       "      <th>643511</th>\n",
       "      <td>Tyler Rogers</td>\n",
       "      <td>85.0</td>\n",
       "    </tr>\n",
       "    <tr>\n",
       "      <th>543294</th>\n",
       "      <td>Kyle Hendricks</td>\n",
       "      <td>88.0</td>\n",
       "    </tr>\n",
       "    <tr>\n",
       "      <th>643256</th>\n",
       "      <td>Adam Cimber</td>\n",
       "      <td>88.0</td>\n",
       "    </tr>\n",
       "    <tr>\n",
       "      <th>...</th>\n",
       "      <td>...</td>\n",
       "      <td>...</td>\n",
       "    </tr>\n",
       "    <tr>\n",
       "      <th>621237</th>\n",
       "      <td>Jose Alvarado</td>\n",
       "      <td>101.0</td>\n",
       "    </tr>\n",
       "    <tr>\n",
       "      <th>662253</th>\n",
       "      <td>Andres Munoz</td>\n",
       "      <td>102.0</td>\n",
       "    </tr>\n",
       "    <tr>\n",
       "      <th>547973</th>\n",
       "      <td>Aroldis Chapman</td>\n",
       "      <td>102.0</td>\n",
       "    </tr>\n",
       "    <tr>\n",
       "      <th>661395</th>\n",
       "      <td>Jhoan Duran</td>\n",
       "      <td>102.0</td>\n",
       "    </tr>\n",
       "    <tr>\n",
       "      <th>663855</th>\n",
       "      <td>Jordan Hicks</td>\n",
       "      <td>102.0</td>\n",
       "    </tr>\n",
       "  </tbody>\n",
       "</table>\n",
       "<p>447 rows × 2 columns</p>\n",
       "</div>"
      ],
      "text/plain": [
       "             PLAYERNAME  Top Speed\n",
       "502085  David Robertson        0.0\n",
       "476595     Lucas Luetge       35.0\n",
       "643511     Tyler Rogers       85.0\n",
       "543294   Kyle Hendricks       88.0\n",
       "643256      Adam Cimber       88.0\n",
       "...                 ...        ...\n",
       "621237    Jose Alvarado      101.0\n",
       "662253     Andres Munoz      102.0\n",
       "547973  Aroldis Chapman      102.0\n",
       "661395      Jhoan Duran      102.0\n",
       "663855     Jordan Hicks      102.0\n",
       "\n",
       "[447 rows x 2 columns]"
      ]
     },
     "execution_count": 17,
     "metadata": {},
     "output_type": "execute_result"
    }
   ],
   "source": [
    "ps_data.sort_values('Top Speed')"
   ]
  },
  {
   "cell_type": "code",
   "execution_count": 27,
   "metadata": {},
   "outputs": [],
   "source": [
    "ps_data.to_csv('2022_Top_Speed.csv')"
   ]
  },
  {
   "cell_type": "code",
   "execution_count": null,
   "metadata": {},
   "outputs": [],
   "source": []
  }
 ],
 "metadata": {
  "kernelspec": {
   "display_name": "Python 3",
   "language": "python",
   "name": "python3"
  },
  "language_info": {
   "codemirror_mode": {
    "name": "ipython",
    "version": 3
   },
   "file_extension": ".py",
   "mimetype": "text/x-python",
   "name": "python",
   "nbconvert_exporter": "python",
   "pygments_lexer": "ipython3",
   "version": "3.7.6"
  }
 },
 "nbformat": 4,
 "nbformat_minor": 4
}
