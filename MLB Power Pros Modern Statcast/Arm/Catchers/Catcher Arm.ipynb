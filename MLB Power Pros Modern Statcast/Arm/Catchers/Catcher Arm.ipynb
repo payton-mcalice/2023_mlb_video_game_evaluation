{
 "cells": [
  {
   "cell_type": "code",
   "execution_count": 1,
   "metadata": {},
   "outputs": [],
   "source": [
    "import pandas as pd"
   ]
  },
  {
   "cell_type": "code",
   "execution_count": 8,
   "metadata": {},
   "outputs": [
    {
     "data": {
      "text/html": [
       "<div>\n",
       "<style scoped>\n",
       "    .dataframe tbody tr th:only-of-type {\n",
       "        vertical-align: middle;\n",
       "    }\n",
       "\n",
       "    .dataframe tbody tr th {\n",
       "        vertical-align: top;\n",
       "    }\n",
       "\n",
       "    .dataframe thead th {\n",
       "        text-align: right;\n",
       "    }\n",
       "</style>\n",
       "<table border=\"1\" class=\"dataframe\">\n",
       "  <thead>\n",
       "    <tr style=\"text-align: right;\">\n",
       "      <th></th>\n",
       "      <th>PLAYERNAME</th>\n",
       "      <th>pop_2b_sba</th>\n",
       "      <th>Z</th>\n",
       "    </tr>\n",
       "  </thead>\n",
       "  <tbody>\n",
       "    <tr>\n",
       "      <th>425877</th>\n",
       "      <td>Yadier Molina</td>\n",
       "      <td>2.000000</td>\n",
       "      <td>-0.367457</td>\n",
       "    </tr>\n",
       "    <tr>\n",
       "      <th>435559</th>\n",
       "      <td>Kurt Suzuki</td>\n",
       "      <td>2.040000</td>\n",
       "      <td>-1.115733</td>\n",
       "    </tr>\n",
       "    <tr>\n",
       "      <th>455117</th>\n",
       "      <td>Martin Maldonado</td>\n",
       "      <td>1.933333</td>\n",
       "      <td>0.879669</td>\n",
       "    </tr>\n",
       "    <tr>\n",
       "      <th>455139</th>\n",
       "      <td>Robinson Chirinos</td>\n",
       "      <td>2.020000</td>\n",
       "      <td>-0.741595</td>\n",
       "    </tr>\n",
       "    <tr>\n",
       "      <th>488771</th>\n",
       "      <td>Jason Castro</td>\n",
       "      <td>1.970000</td>\n",
       "      <td>0.193750</td>\n",
       "    </tr>\n",
       "  </tbody>\n",
       "</table>\n",
       "</div>"
      ],
      "text/plain": [
       "               PLAYERNAME  pop_2b_sba         Z\n",
       "425877      Yadier Molina    2.000000 -0.367457\n",
       "435559        Kurt Suzuki    2.040000 -1.115733\n",
       "455117   Martin Maldonado    1.933333  0.879669\n",
       "455139  Robinson Chirinos    2.020000 -0.741595\n",
       "488771       Jason Castro    1.970000  0.193750"
      ]
     },
     "execution_count": 8,
     "metadata": {},
     "output_type": "execute_result"
    }
   ],
   "source": [
    "# from Baseball Savant, get weighted pop time using TY and LY data\n",
    "# min pa = 50\n",
    "def read_pop_time(year):\n",
    "    df = pd.read_csv(f'2B Pop Time {year - 1}-{year}.csv', index_col=False).drop('Unnamed: 6', axis=1).dropna()\n",
    "                \n",
    "    # for TY data, double its weight\n",
    "    df['weight'] = 0\n",
    "    df.loc[df['year'] == year, 'weight'] = 2\n",
    "    df.loc[df['year'] != year, 'weight'] = 1\n",
    "    df['weighted_pop'] = df['weight'] * df['pop_2b_sba']\n",
    "        \n",
    "    # calculate the weighted pop time\n",
    "    df_grouped = df.groupby(['player_id']).sum()\n",
    "    df_grouped['pop_2b_sba'] = df_grouped['weighted_pop'] / df_grouped['weight']\n",
    "    df_grouped = df_grouped[df_grouped['year'] >= year]\n",
    "    \n",
    "    # join with player ids\n",
    "    player_map = pd.read_csv('../../PLAYERIDMAP 2022.csv')[['MLBID', 'PLAYERNAME']].set_index('MLBID')\n",
    "    merge = df_grouped[['pop_2b_sba']].merge(player_map, how='left', left_index=True, right_index=True)[['PLAYERNAME', 'pop_2b_sba']]\n",
    "    \n",
    "    mean = merge['pop_2b_sba'].mean()\n",
    "    std = merge['pop_2b_sba'].std()\n",
    "    \n",
    "    merge['Z'] = -1 * ((merge['pop_2b_sba'] - mean) / std)\n",
    "    \n",
    "    return merge\n",
    "\n",
    "pt_data = read_pop_time(2022)\n",
    "pt_data.head()"
   ]
  },
  {
   "cell_type": "code",
   "execution_count": 74,
   "metadata": {},
   "outputs": [
    {
     "name": "stdout",
     "output_type": "stream",
     "text": [
      "0.7660918489406424\n",
      "-2.4252151845824432\n",
      "2.937427758002053\n"
     ]
    },
    {
     "data": {
      "image/png": "[encoded data removed]",
      "text/plain": [
       "<Figure size 432x288 with 1 Axes>"
      ]
     },
     "metadata": {
      "needs_background": "light"
     },
     "output_type": "display_data"
    }
   ],
   "source": [
    "print((pt_data['Z'].max() - pt_data['Z'].min()) / 7)\n",
    "print(pt_data['Z'].min())\n",
    "print(pt_data['Z'].max())\n",
    "hist = pt_data['Z'].hist(bins=7)"
   ]
  },
  {
   "cell_type": "code",
   "execution_count": 83,
   "metadata": {},
   "outputs": [],
   "source": [
    "# CONVERSIONS:\n",
    "# 6-12\n",
    "pop_time_conversion = {\n",
    "    7: -1.5,\n",
    "    8: -1.0,\n",
    "    9: -0.5,\n",
    "    10: 0.0,\n",
    "    11: 1.0,\n",
    "    12: 2.0,\n",
    "}"
   ]
  },
  {
   "cell_type": "code",
   "execution_count": 84,
   "metadata": {},
   "outputs": [],
   "source": [
    "def get_arm(pt):\n",
    "    current_arm = 6\n",
    "    while current_arm < 12:\n",
    "        floor = pop_time_conversion[current_arm + 1]\n",
    "        if pt > floor:\n",
    "            current_arm += 1\n",
    "        else:\n",
    "            break\n",
    "    return current_arm"
   ]
  },
  {
   "cell_type": "code",
   "execution_count": 85,
   "metadata": {},
   "outputs": [
    {
     "data": {
      "text/html": [
       "<div>\n",
       "<style scoped>\n",
       "    .dataframe tbody tr th:only-of-type {\n",
       "        vertical-align: middle;\n",
       "    }\n",
       "\n",
       "    .dataframe tbody tr th {\n",
       "        vertical-align: top;\n",
       "    }\n",
       "\n",
       "    .dataframe thead th {\n",
       "        text-align: right;\n",
       "    }\n",
       "</style>\n",
       "<table border=\"1\" class=\"dataframe\">\n",
       "  <thead>\n",
       "    <tr style=\"text-align: right;\">\n",
       "      <th></th>\n",
       "      <th>PLAYERNAME</th>\n",
       "      <th>Arm Strength</th>\n",
       "    </tr>\n",
       "  </thead>\n",
       "  <tbody>\n",
       "    <tr>\n",
       "      <th>425877</th>\n",
       "      <td>Yadier Molina</td>\n",
       "      <td>9</td>\n",
       "    </tr>\n",
       "    <tr>\n",
       "      <th>435559</th>\n",
       "      <td>Kurt Suzuki</td>\n",
       "      <td>7</td>\n",
       "    </tr>\n",
       "    <tr>\n",
       "      <th>455117</th>\n",
       "      <td>Martin Maldonado</td>\n",
       "      <td>10</td>\n",
       "    </tr>\n",
       "    <tr>\n",
       "      <th>455139</th>\n",
       "      <td>Robinson Chirinos</td>\n",
       "      <td>8</td>\n",
       "    </tr>\n",
       "    <tr>\n",
       "      <th>488771</th>\n",
       "      <td>Jason Castro</td>\n",
       "      <td>10</td>\n",
       "    </tr>\n",
       "  </tbody>\n",
       "</table>\n",
       "</div>"
      ],
      "text/plain": [
       "               PLAYERNAME  Arm Strength\n",
       "425877      Yadier Molina             9\n",
       "435559        Kurt Suzuki             7\n",
       "455117   Martin Maldonado            10\n",
       "455139  Robinson Chirinos             8\n",
       "488771       Jason Castro            10"
      ]
     },
     "execution_count": 85,
     "metadata": {},
     "output_type": "execute_result"
    }
   ],
   "source": [
    "def assign_arm(year):\n",
    "    arm_data = read_pop_time(2022)\n",
    "    arm_data['Arm Strength'] = arm_data.apply(lambda x: get_arm(x['Z']), axis=1)\n",
    "    return arm_data[['PLAYERNAME', 'Arm Strength']].dropna()\n",
    "\n",
    "arm_df = assign_arm(2022)\n",
    "arm_df.head()"
   ]
  },
  {
   "cell_type": "code",
   "execution_count": 86,
   "metadata": {},
   "outputs": [
    {
     "data": {
      "image/png": "[encoded data removed]",
      "text/plain": [
       "<Figure size 432x288 with 1 Axes>"
      ]
     },
     "metadata": {
      "needs_background": "light"
     },
     "output_type": "display_data"
    }
   ],
   "source": [
    "hist2 = arm_df['Arm Strength'].hist(bins=7)"
   ]
  },
  {
   "cell_type": "code",
   "execution_count": 87,
   "metadata": {},
   "outputs": [],
   "source": [
    "arm_df.to_csv('2022_Catcher_Arm.csv')"
   ]
  },
  {
   "cell_type": "code",
   "execution_count": null,
   "metadata": {},
   "outputs": [],
   "source": []
  }
 ],
 "metadata": {
  "kernelspec": {
   "display_name": "Python 3",
   "language": "python",
   "name": "python3"
  },
  "language_info": {
   "codemirror_mode": {
    "name": "ipython",
    "version": 3
   },
   "file_extension": ".py",
   "mimetype": "text/x-python",
   "name": "python",
   "nbconvert_exporter": "python",
   "pygments_lexer": "ipython3",
   "version": "3.7.6"
  }
 },
 "nbformat": 4,
 "nbformat_minor": 4
}
