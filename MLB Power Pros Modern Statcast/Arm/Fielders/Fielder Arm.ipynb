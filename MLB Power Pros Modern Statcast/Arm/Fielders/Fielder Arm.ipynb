{
 "cells": [
  {
   "cell_type": "code",
   "execution_count": 1,
   "metadata": {},
   "outputs": [],
   "source": [
    "import pandas as pd"
   ]
  },
  {
   "cell_type": "code",
   "execution_count": 19,
   "metadata": {},
   "outputs": [
    {
     "data": {
      "text/html": [
       "<div>\n",
       "<style scoped>\n",
       "    .dataframe tbody tr th:only-of-type {\n",
       "        vertical-align: middle;\n",
       "    }\n",
       "\n",
       "    .dataframe tbody tr th {\n",
       "        vertical-align: top;\n",
       "    }\n",
       "\n",
       "    .dataframe thead th {\n",
       "        text-align: right;\n",
       "    }\n",
       "</style>\n",
       "<table border=\"1\" class=\"dataframe\">\n",
       "  <thead>\n",
       "    <tr style=\"text-align: right;\">\n",
       "      <th></th>\n",
       "      <th>PLAYERNAME</th>\n",
       "      <th>arm_overall</th>\n",
       "    </tr>\n",
       "  </thead>\n",
       "  <tbody>\n",
       "    <tr>\n",
       "      <th>429664</th>\n",
       "      <td>Robinson Cano</td>\n",
       "      <td>76.3</td>\n",
       "    </tr>\n",
       "    <tr>\n",
       "      <th>444482</th>\n",
       "      <td>David Peralta</td>\n",
       "      <td>79.9</td>\n",
       "    </tr>\n",
       "    <tr>\n",
       "      <th>444876</th>\n",
       "      <td>Alcides Escobar</td>\n",
       "      <td>82.5</td>\n",
       "    </tr>\n",
       "    <tr>\n",
       "      <th>446334</th>\n",
       "      <td>Evan Longoria</td>\n",
       "      <td>74.9</td>\n",
       "    </tr>\n",
       "    <tr>\n",
       "      <th>453568</th>\n",
       "      <td>Charlie Blackmon</td>\n",
       "      <td>91.0</td>\n",
       "    </tr>\n",
       "  </tbody>\n",
       "</table>\n",
       "</div>"
      ],
      "text/plain": [
       "              PLAYERNAME  arm_overall\n",
       "429664     Robinson Cano         76.3\n",
       "444482     David Peralta         79.9\n",
       "444876   Alcides Escobar         82.5\n",
       "446334     Evan Longoria         74.9\n",
       "453568  Charlie Blackmon         91.0"
      ]
     },
     "execution_count": 19,
     "metadata": {},
     "output_type": "execute_result"
    }
   ],
   "source": [
    "# from Baseball Savant, get arm strength using TY data\n",
    "# min throws = 50\n",
    "def read_arm_strength(year):\n",
    "    df = pd.read_csv(f'Arm Strength {year}.csv', index_col=False)[['fielder_name', 'player_id', 'arm_overall']].set_index('player_id')\n",
    "    \n",
    "    # join with player ids\n",
    "    player_map = pd.read_csv('../../PLAYERIDMAP 2022.csv')[['MLBID', 'PLAYERNAME']].set_index('MLBID')\n",
    "    merge = df[['arm_overall']].merge(player_map, how='left', left_index=True, right_index=True)[['PLAYERNAME', 'arm_overall']]\n",
    "    \n",
    "    return merge\n",
    "\n",
    "as_data = read_arm_strength(2022)\n",
    "as_data.head()"
   ]
  },
  {
   "cell_type": "code",
   "execution_count": 32,
   "metadata": {},
   "outputs": [
    {
     "name": "stdout",
     "output_type": "stream",
     "text": [
      "3.336363636363636\n",
      "61.4\n",
      "98.1\n"
     ]
    },
    {
     "data": {
      "image/png": "[encoded data removed]",
      "text/plain": [
       "<Figure size 432x288 with 1 Axes>"
      ]
     },
     "metadata": {
      "needs_background": "light"
     },
     "output_type": "display_data"
    }
   ],
   "source": [
    "print((as_data['arm_overall'].max() - as_data['arm_overall'].min()) / 11)\n",
    "print(as_data['arm_overall'].min())\n",
    "print(as_data['arm_overall'].max())\n",
    "hist = as_data['arm_overall'].hist(bins=11)"
   ]
  },
  {
   "cell_type": "code",
   "execution_count": 62,
   "metadata": {},
   "outputs": [
    {
     "data": {
      "text/plain": [
       "12"
      ]
     },
     "execution_count": 62,
     "metadata": {},
     "output_type": "execute_result"
    }
   ],
   "source": [
    "def get_arm(arm):\n",
    "    i = 0\n",
    "    while i < 10:\n",
    "        floor = 61.4 + (i * 3.5)\n",
    "        if arm > floor:\n",
    "            i += 1\n",
    "        else:\n",
    "            break\n",
    "    return 4 + i\n",
    "get_arm(87)"
   ]
  },
  {
   "cell_type": "code",
   "execution_count": 63,
   "metadata": {},
   "outputs": [
    {
     "data": {
      "text/html": [
       "<div>\n",
       "<style scoped>\n",
       "    .dataframe tbody tr th:only-of-type {\n",
       "        vertical-align: middle;\n",
       "    }\n",
       "\n",
       "    .dataframe tbody tr th {\n",
       "        vertical-align: top;\n",
       "    }\n",
       "\n",
       "    .dataframe thead th {\n",
       "        text-align: right;\n",
       "    }\n",
       "</style>\n",
       "<table border=\"1\" class=\"dataframe\">\n",
       "  <thead>\n",
       "    <tr style=\"text-align: right;\">\n",
       "      <th></th>\n",
       "      <th>PLAYERNAME</th>\n",
       "      <th>Arm Strength</th>\n",
       "    </tr>\n",
       "  </thead>\n",
       "  <tbody>\n",
       "    <tr>\n",
       "      <th>429664</th>\n",
       "      <td>Robinson Cano</td>\n",
       "      <td>9</td>\n",
       "    </tr>\n",
       "    <tr>\n",
       "      <th>444482</th>\n",
       "      <td>David Peralta</td>\n",
       "      <td>10</td>\n",
       "    </tr>\n",
       "    <tr>\n",
       "      <th>444876</th>\n",
       "      <td>Alcides Escobar</td>\n",
       "      <td>11</td>\n",
       "    </tr>\n",
       "    <tr>\n",
       "      <th>446334</th>\n",
       "      <td>Evan Longoria</td>\n",
       "      <td>8</td>\n",
       "    </tr>\n",
       "    <tr>\n",
       "      <th>453568</th>\n",
       "      <td>Charlie Blackmon</td>\n",
       "      <td>13</td>\n",
       "    </tr>\n",
       "  </tbody>\n",
       "</table>\n",
       "</div>"
      ],
      "text/plain": [
       "              PLAYERNAME  Arm Strength\n",
       "429664     Robinson Cano             9\n",
       "444482     David Peralta            10\n",
       "444876   Alcides Escobar            11\n",
       "446334     Evan Longoria             8\n",
       "453568  Charlie Blackmon            13"
      ]
     },
     "execution_count": 63,
     "metadata": {},
     "output_type": "execute_result"
    }
   ],
   "source": [
    "def assign_arm(year):\n",
    "    arm_data = read_arm_strength(2022)\n",
    "    arm_data['Arm Strength'] = arm_data.apply(lambda x: get_arm(x['arm_overall']), axis=1)\n",
    "    return arm_data[['PLAYERNAME', 'Arm Strength']].dropna()\n",
    "\n",
    "arm_df = assign_arm(2022)\n",
    "arm_df.head()"
   ]
  },
  {
   "cell_type": "code",
   "execution_count": 64,
   "metadata": {},
   "outputs": [
    {
     "data": {
      "image/png": "[encoded data removed]",
      "text/plain": [
       "<Figure size 432x288 with 1 Axes>"
      ]
     },
     "metadata": {
      "needs_background": "light"
     },
     "output_type": "display_data"
    }
   ],
   "source": [
    "hist2 = arm_df['Arm Strength'].hist(bins=11)"
   ]
  },
  {
   "cell_type": "code",
   "execution_count": 65,
   "metadata": {},
   "outputs": [],
   "source": [
    "arm_df.to_csv('2022_Fielder_Arm.csv')"
   ]
  },
  {
   "cell_type": "code",
   "execution_count": null,
   "metadata": {},
   "outputs": [],
   "source": []
  }
 ],
 "metadata": {
  "kernelspec": {
   "display_name": "Python 3",
   "language": "python",
   "name": "python3"
  },
  "language_info": {
   "codemirror_mode": {
    "name": "ipython",
    "version": 3
   },
   "file_extension": ".py",
   "mimetype": "text/x-python",
   "name": "python",
   "nbconvert_exporter": "python",
   "pygments_lexer": "ipython3",
   "version": "3.7.6"
  }
 },
 "nbformat": 4,
 "nbformat_minor": 4
}
